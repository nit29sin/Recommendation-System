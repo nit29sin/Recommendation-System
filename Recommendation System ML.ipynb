{
 "cells": [
  {
   "cell_type": "markdown",
   "metadata": {},
   "source": [
    "## Recommender Systems"
   ]
  },
  {
   "cell_type": "markdown",
   "metadata": {},
   "source": [
    "### Loading of data"
   ]
  },
  {
   "cell_type": "code",
   "execution_count": null,
   "metadata": {},
   "outputs": [],
   "source": [
    "mat3 = loadmat(\"ex8_movies.mat\")\n",
    "mat4 = loadmat(\"ex8_movieParams.mat\")\n",
    "Y = mat3[\"Y\"] # 1682 X 943 matrix, containing ratings (1-5) of 1682 movies on 943 user\n",
    "R = mat3[\"R\"] # 1682 X 943 matrix, where R(i,j) = 1 if and only if user j give rating to movie i\n",
    "X = mat4[\"X\"] # 1682 X 10 matrix , num_movies X num_features matrix of movie features\n",
    "Theta = mat4[\"Theta\"] # 943 X 10 matrix, num_users X num_features matrix of user features"
   ]
  },
  {
   "cell_type": "code",
   "execution_count": null,
   "metadata": {},
   "outputs": [],
   "source": [
    "# Compute average rating \n",
    "print(\"Average rating for movie 1 (Toy Story):\",np.sum(Y[0,:]*R[0,:])/np.sum(R[0,:]),\"/5\")"
   ]
  },
  {
   "cell_type": "markdown",
   "metadata": {},
   "source": [
    "### Visualize the ratings matrix"
   ]
  },
  {
   "cell_type": "code",
   "execution_count": null,
   "metadata": {},
   "outputs": [],
   "source": [
    "plt.figure(figsize=(8,16))\n",
    "plt.imshow(Y)\n",
    "plt.xlabel(\"Users\")\n",
    "plt.ylabel(\"Movies\")"
   ]
  },
  {
   "cell_type": "markdown",
   "metadata": {},
   "source": [
    "### Collaborative Filtering Learning Algorithm\n",
    "\n",
    "$J(x^{(i)},...,x^{(n_m)},\\Theta^{(I)},...,\\Theta^{(n_u)}) = \\frac{1}{2} \\sum ((\\Theta^{(j)})^Tx^{(i)} - y^{(i,j)})^2 + (\\frac{\\lambda}{2} \\sum^{n_u}_{j=1}\\sum^n_{k=1} (\\Theta^{(j)}_k)^2) + (\\frac{\\lambda}{2} \\sum^{n_m}_{i=1}\\sum^n_{k=1} (x^{(i)}_k)^2)$\n",
    "\n",
    "$\\frac{\\partial J}{\\partial x^{(i)}_k} = \\sum ((\\Theta^{(j)})^Tx^{(i)} - y^{(i,j)})\\Theta_k^{(j)} +\\lambda x^{(i)}_k$\n",
    "\n",
    "$\\frac{\\partial J}{\\partial \\Theta^{(j)}_k} = \\sum ((\\Theta^{(j)})^Tx^{(i)} - y^{(i,j)})x_k^{(i)} +\\lambda \\Theta^{(j)}_k$"
   ]
  },
  {
   "cell_type": "code",
   "execution_count": null,
   "metadata": {},
   "outputs": [],
   "source": [
    "def  cofiCostFunc(params, Y, R, num_users, num_movies, num_features, Lambda):\n",
    "    \"\"\"\n",
    "    Returns the cost and gradient for the collaborative filtering problem\n",
    "    \"\"\"\n",
    "    \n",
    "    # Unfold the params\n",
    "    X = params[:num_movies*num_features].reshape(num_movies,num_features)\n",
    "    Theta = params[num_movies*num_features:].reshape(num_users,num_features)\n",
    "    \n",
    "    predictions =  X @ Theta.T\n",
    "    err = (predictions - Y)\n",
    "    J = 1/2 * np.sum((err**2) * R)\n",
    "    \n",
    "    #compute regularized cost function\n",
    "    reg_X =  Lambda/2 * np.sum(Theta**2)\n",
    "    reg_Theta = Lambda/2 *np.sum(X**2)\n",
    "    reg_J = J + reg_X + reg_Theta\n",
    "    \n",
    "    # Compute gradient\n",
    "    X_grad = err*R @ Theta\n",
    "    Theta_grad = (err*R).T @ X\n",
    "    grad = np.append(X_grad.flatten(),Theta_grad.flatten())\n",
    "    \n",
    "    # Compute regularized gradient\n",
    "    reg_X_grad = X_grad + Lambda*X\n",
    "    reg_Theta_grad = Theta_grad + Lambda*Theta\n",
    "    reg_grad = np.append(reg_X_grad.flatten(),reg_Theta_grad.flatten())\n",
    "    \n",
    "    return J, grad, reg_J, reg_grad"
   ]
  },
  {
   "cell_type": "code",
   "execution_count": null,
   "metadata": {},
   "outputs": [],
   "source": [
    "# Reduce the data set size to run faster\n",
    "num_users, num_movies, num_features = 4,5,3\n",
    "X_test = X[:num_movies,:num_features]\n",
    "Theta_test= Theta[:num_users,:num_features]\n",
    "Y_test = Y[:num_movies,:num_users]\n",
    "R_test = R[:num_movies,:num_users]\n",
    "params = np.append(X_test.flatten(),Theta_test.flatten())\n",
    "\n",
    "# Evaluate cost function\n",
    "J, grad = cofiCostFunc(params, Y_test, R_test, num_users, num_movies, num_features, 0)[:2]\n",
    "print(\"Cost at loaded parameters:\",J)\n",
    "\n",
    "J2, grad2 = cofiCostFunc(params, Y_test, R_test, num_users, num_movies, num_features, 1.5)[2:]\n",
    "print(\"Cost at loaded parameters (lambda = 1.5):\",J2)"
   ]
  },
  {
   "cell_type": "markdown",
   "metadata": {},
   "source": [
    "### Learning movie recommendations"
   ]
  },
  {
   "cell_type": "code",
   "execution_count": null,
   "metadata": {},
   "outputs": [],
   "source": [
    "# load movie list\n",
    "movieList = open(\"movie_ids.txt\",\"r\").read().split(\"\\n\")[:-1]\n",
    "\n",
    "# see movie list\n",
    "np.set_printoptions(threshold=np.nan)\n",
    "movieList"
   ]
  },
  {
   "cell_type": "code",
   "execution_count": null,
   "metadata": {},
   "outputs": [],
   "source": [
    "# Initialize my ratings\n",
    "my_ratings = np.zeros((1682,1))\n",
    "\n",
    "# Create own ratings\n",
    "my_ratings[0] = 4 \n",
    "my_ratings[97] = 2\n",
    "my_ratings[6] = 3\n",
    "my_ratings[11]= 5\n",
    "my_ratings[53] = 4\n",
    "my_ratings[63]= 5\n",
    "my_ratings[65]= 3\n",
    "my_ratings[68] = 5\n",
    "my_ratings[82]= 4\n",
    "my_ratings[225] = 5\n",
    "my_ratings[354]= 5\n",
    "\n",
    "print(\"New user ratings:\\n\")\n",
    "for i in range(len(my_ratings)):\n",
    "    if my_ratings[i]>0:\n",
    "        print(\"Rated\",int(my_ratings[i]),\"for index\",movieList[i])"
   ]
  },
  {
   "cell_type": "markdown",
   "metadata": {},
   "source": [
    "### Recommendations"
   ]
  },
  {
   "cell_type": "code",
   "execution_count": null,
   "metadata": {},
   "outputs": [],
   "source": [
    "def normalizeRatings(Y, R):\n",
    "    \"\"\"\n",
    "    normalized Y so that each movie has a rating of 0 on average, and returns the mean rating in Ymean.\n",
    "    \"\"\"\n",
    "    \n",
    "    m,n = Y.shape[0], Y.shape[1]\n",
    "    Ymean = np.zeros((m,1))\n",
    "    Ynorm = np.zeros((m,n))\n",
    "    \n",
    "    for i in range(m):\n",
    "        Ymean[i] = np.sum(Y[i,:])/np.count_nonzero(R[i,:])\n",
    "        Ynorm[i,R[i,:]==1] = Y[i,R[i,:]==1] - Ymean[i]\n",
    "        \n",
    "    return Ynorm, Ymean"
   ]
  },
  {
   "cell_type": "code",
   "execution_count": null,
   "metadata": {},
   "outputs": [],
   "source": [
    "def gradientDescent(initial_parameters,Y,R,num_users,num_movies,num_features,alpha,num_iters,Lambda):\n",
    "    \"\"\"\n",
    "    Optimize X and Theta\n",
    "    \"\"\"\n",
    "    # unfold the parameters\n",
    "    X = initial_parameters[:num_movies*num_features].reshape(num_movies,num_features)\n",
    "    Theta = initial_parameters[num_movies*num_features:].reshape(num_users,num_features)\n",
    "    \n",
    "    J_history =[]\n",
    "    \n",
    "    for i in range(num_iters):\n",
    "        params = np.append(X.flatten(),Theta.flatten())\n",
    "        cost, grad = cofiCostFunc(params, Y, R, num_users, num_movies, num_features, Lambda)[2:]\n",
    "        \n",
    "        # unfold grad\n",
    "        X_grad = grad[:num_movies*num_features].reshape(num_movies,num_features)\n",
    "        Theta_grad = grad[num_movies*num_features:].reshape(num_users,num_features)\n",
    "        X = X - (alpha * X_grad)\n",
    "        Theta = Theta - (alpha * Theta_grad)\n",
    "        J_history.append(cost)\n",
    "    \n",
    "    paramsFinal = np.append(X.flatten(),Theta.flatten())\n",
    "    return paramsFinal , J_history"
   ]
  },
  {
   "cell_type": "code",
   "execution_count": null,
   "metadata": {},
   "outputs": [],
   "source": [
    "Y = np.hstack((my_ratings,Y))\n",
    "R =np.hstack((my_ratings!=0,R))\n",
    "\n",
    "# Normalize Ratings\n",
    "Ynorm, Ymean = normalizeRatings(Y, R)"
   ]
  },
  {
   "cell_type": "code",
   "execution_count": null,
   "metadata": {},
   "outputs": [],
   "source": [
    "num_users = Y.shape[1]\n",
    "num_movies = Y.shape[0]\n",
    "num_features = 10\n",
    "\n",
    "# Set initial Parameters (Theta,X)\n",
    "X = np.random.randn(num_movies, num_features)\n",
    "Theta = np.random.randn(num_users, num_features)\n",
    "initial_parameters = np.append(X.flatten(),Theta.flatten())\n",
    "Lambda = 10\n",
    "\n",
    "# Optimize parameters using Gradient Descent\n",
    "paramsFinal, J_history = gradientDescent(initial_parameters,Y,R,num_users,num_movies,num_features,0.001,400,Lambda)"
   ]
  },
  {
   "cell_type": "markdown",
   "metadata": {},
   "source": [
    "### Ploting of cost Function"
   ]
  },
  {
   "cell_type": "code",
   "execution_count": null,
   "metadata": {},
   "outputs": [],
   "source": [
    "plt.plot(J_history)\n",
    "plt.xlabel(\"Iteration\")\n",
    "plt.ylabel(\"$J(\\Theta)$\")\n",
    "plt.title(\"Cost function using Gradient Descent\")"
   ]
  },
  {
   "cell_type": "code",
   "execution_count": null,
   "metadata": {},
   "outputs": [],
   "source": [
    "# unfold paramaters\n",
    "X = paramsFinal[:num_movies*num_features].reshape(num_movies,num_features)\n",
    "Theta = paramsFinal[num_movies*num_features:].reshape(num_users,num_features)\n",
    "\n",
    "# Predict rating\n",
    "p = X @ Theta.T\n",
    "my_predictions = p[:,0][:,np.newaxis] + Ymean"
   ]
  },
  {
   "cell_type": "code",
   "execution_count": null,
   "metadata": {},
   "outputs": [],
   "source": [
    "import pandas as pd\n",
    "df = pd.DataFrame(np.hstack((my_predictions,np.array(movieList)[:,np.newaxis])))\n",
    "df.sort_values(by=[0],ascending=False,inplace=True)\n",
    "df.reset_index(drop=True,inplace=True)"
   ]
  },
  {
   "cell_type": "code",
   "execution_count": null,
   "metadata": {},
   "outputs": [],
   "source": [
    "print(\"Top recommendations for you:\\n\")\n",
    "for i in range(10):\n",
    "    print(\"Predicting rating\",round(float(df[0][i]),1),\" for index\",df[1][i])"
   ]
  }
 ],
 "metadata": {
  "kernelspec": {
   "display_name": "Python 3",
   "language": "python",
   "name": "python3"
  },
  "language_info": {
   "codemirror_mode": {
    "name": "ipython",
    "version": 3
   },
   "file_extension": ".py",
   "mimetype": "text/x-python",
   "name": "python",
   "nbconvert_exporter": "python",
   "pygments_lexer": "ipython3",
   "version": "3.7.3"
  }
 },
 "nbformat": 4,
 "nbformat_minor": 2
}
